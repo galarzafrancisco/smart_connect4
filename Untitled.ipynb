{
 "cells": [
  {
   "cell_type": "code",
   "execution_count": 1,
   "metadata": {},
   "outputs": [],
   "source": [
    "from play import Simulation"
   ]
  },
  {
   "cell_type": "code",
   "execution_count": 2,
   "metadata": {},
   "outputs": [],
   "source": [
    "import numpy as np\n",
    "import tensorflow as tf\n",
    "from tensorflow import keras"
   ]
  },
  {
   "cell_type": "code",
   "execution_count": 3,
   "metadata": {},
   "outputs": [],
   "source": [
    "def make_agent(winner_moves, model_name):\n",
    "    # Make x, y sets\n",
    "    x = np.array([move[0] for move in winner_moves])\n",
    "    y = np.array([move[1] for move in winner_moves])\n",
    "    y_one_hot = np.zeros((y.shape[0], x[0].shape[1]))\n",
    "    for i in range(y.shape[0]):\n",
    "        y_one_hot[i, y[i]] = 1\n",
    "\n",
    "    # Flatten x (transform the matrix representation of the board into a one-dimensional vector)\n",
    "    x = np.array([np.reshape(i, i.size) for i in x])\n",
    "\n",
    "    # Make train-test sets\n",
    "    validation_idx = np.random.random(x.shape[0]) < 0.2\n",
    "    train_idx = np.logical_not(validation_idx)\n",
    "    x_train = x[train_idx]\n",
    "    y_train = y_one_hot[train_idx]\n",
    "    x_validation = x[validation_idx]\n",
    "    y_validation = y_one_hot[validation_idx]\n",
    "    \n",
    "    # Train a model\n",
    "    model = keras.Sequential(\n",
    "        layers=[\n",
    "            tf.keras.layers.Flatten(input_shape=x_train[0].shape),\n",
    "            tf.keras.layers.Dense(units=50, activation='relu'),\n",
    "            tf.keras.layers.Dense(units=6, activation='softmax')\n",
    "        ]\n",
    "    )\n",
    "    model.compile(\n",
    "        loss='mean_squared_error',\n",
    "        optimizer='sgd'\n",
    "    )\n",
    "    model.fit(\n",
    "        x=x_train,\n",
    "        y=y_train,\n",
    "        batch_size=32,\n",
    "        epochs=10,\n",
    "        validation_data=(x_validation, y_validation)\n",
    "    )\n",
    "    \n",
    "    # Save model\n",
    "    model.save(model_name)\n",
    "\n",
    "    # Make an agent\n",
    "    def agent(board_state):\n",
    "        reshaped_board = board_state.reshape((1, board_state.size))\n",
    "        prediction_array = model.predict(reshaped_board)\n",
    "        move = np.argmax(prediction_array)\n",
    "        return move\n",
    "    \n",
    "    return agent"
   ]
  },
  {
   "cell_type": "markdown",
   "metadata": {},
   "source": [
    "# Make a simulation"
   ]
  },
  {
   "cell_type": "code",
   "execution_count": null,
   "metadata": {},
   "outputs": [
    {
     "name": "stdout",
     "output_type": "stream",
     "text": [
      "\n",
      "Generation 0\n",
      "\tplaying...\n",
      "\twinner moves: 30623\n",
      "\ttraining...\n",
      "Train on 24529 samples, validate on 6094 samples\n",
      "Epoch 1/10\n",
      "24529/24529 [==============================] - 1s 40us/sample - loss: 0.1414 - val_loss: 0.1407\n",
      "Epoch 2/10\n",
      "24529/24529 [==============================] - 1s 32us/sample - loss: 0.1402 - val_loss: 0.1402\n",
      "Epoch 3/10\n",
      "24529/24529 [==============================] - 1s 31us/sample - loss: 0.1399 - val_loss: 0.1400\n",
      "Epoch 4/10\n",
      "24529/24529 [==============================] - 1s 33us/sample - loss: 0.1397 - val_loss: 0.1399\n",
      "Epoch 5/10\n",
      "24529/24529 [==============================] - 1s 31us/sample - loss: 0.1396 - val_loss: 0.1398\n",
      "Epoch 6/10\n",
      "24529/24529 [==============================] - 1s 30us/sample - loss: 0.1396 - val_loss: 0.1398\n",
      "Epoch 7/10\n",
      "24529/24529 [==============================] - 1s 31us/sample - loss: 0.1395 - val_loss: 0.1397\n",
      "Epoch 8/10\n",
      "24529/24529 [==============================] - 1s 32us/sample - loss: 0.1394 - val_loss: 0.1397\n",
      "Epoch 9/10\n",
      "24529/24529 [==============================] - 1s 34us/sample - loss: 0.1394 - val_loss: 0.1396\n",
      "Epoch 10/10\n",
      "24529/24529 [==============================] - 1s 34us/sample - loss: 0.1394 - val_loss: 0.1396\n",
      "\n",
      "Generation 1\n",
      "\tplaying...\n"
     ]
    }
   ],
   "source": [
    "agent = None\n",
    "for i in range(20):\n",
    "    print('\\nGeneration {}'.format(i))\n",
    "    print('\\tplaying...')\n",
    "    simulation = Simulation(loops=100, agent=agent, exploration=0.2)\n",
    "    simulation.start()\n",
    "    winner_moves = simulation.get_winner_moves()\n",
    "    print('\\twinner moves: {}'.format(len(winner_moves)))\n",
    "    print('\\ttraining...')\n",
    "    agent =[make_agent(winner_moves, 'models/model_{}.h5'.format(i))]"
   ]
  },
  {
   "cell_type": "code",
   "execution_count": null,
   "metadata": {},
   "outputs": [],
   "source": []
  },
  {
   "cell_type": "code",
   "execution_count": null,
   "metadata": {},
   "outputs": [],
   "source": []
  },
  {
   "cell_type": "code",
   "execution_count": null,
   "metadata": {},
   "outputs": [],
   "source": []
  },
  {
   "cell_type": "code",
   "execution_count": null,
   "metadata": {},
   "outputs": [],
   "source": []
  }
 ],
 "metadata": {
  "kernelspec": {
   "display_name": "Python 3",
   "language": "python",
   "name": "python3"
  },
  "language_info": {
   "codemirror_mode": {
    "name": "ipython",
    "version": 3
   },
   "file_extension": ".py",
   "mimetype": "text/x-python",
   "name": "python",
   "nbconvert_exporter": "python",
   "pygments_lexer": "ipython3",
   "version": "3.7.7"
  }
 },
 "nbformat": 4,
 "nbformat_minor": 4
}
