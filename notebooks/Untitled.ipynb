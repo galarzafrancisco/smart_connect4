{
 "cells": [
  {
   "cell_type": "code",
   "execution_count": 1,
   "metadata": {},
   "outputs": [],
   "source": [
    "import numpy as np"
   ]
  },
  {
   "cell_type": "code",
   "execution_count": 69,
   "metadata": {},
   "outputs": [],
   "source": [
    "BOARD_SIZE=(6,6) # y,x\n",
    "\n",
    "class Board():\n",
    "    def __init__(self):\n",
    "        self.state = np.zeros(BOARD_SIZE)\n",
    "\n",
    "    def has_won(self):\n",
    "        \"\"\"\n",
    "        Returns the player that won, or False otherwise\n",
    "        \"\"\"\n",
    "        winner = False\n",
    "        # Look for horizontal lines\n",
    "        for y in range(BOARD_SIZE[0]):\n",
    "            for x in range(BOARD_SIZE[1]-3):\n",
    "                line = self.state[y, x:x+4]\n",
    "                unique_players_in_line = np.unique(line)\n",
    "                if unique_players_in_line.size == 1:\n",
    "                    if unique_players_in_line[0] != 0:\n",
    "                        return unique_players_in_line[0]\n",
    "\n",
    "        # Look for vertical lines\n",
    "        for x in range(BOARD_SIZE[1]):\n",
    "            for y in range(BOARD_SIZE[0]-3):\n",
    "                line = self.state[y:y+4, x]\n",
    "                unique_players_in_line = np.unique(line)\n",
    "                if unique_players_in_line.size == 1:\n",
    "                    if unique_players_in_line[0] != 0:\n",
    "                        return unique_players_in_line[0]\n",
    "\n",
    "        # Look for diagonal lines (y=x+b)\n",
    "        for x in range(BOARD_SIZE[1]-3):\n",
    "            for y in range(BOARD_SIZE[0]-3):\n",
    "                line = np.array([self.state[y+i, x+i] for i in range(4)])\n",
    "                unique_players_in_line = np.unique(line)\n",
    "                if unique_players_in_line.size == 1:\n",
    "                    if unique_players_in_line[0] != 0:\n",
    "                        return unique_players_in_line[0]\n",
    "\n",
    "        # Look for diagonal lines (y=-x+b)\n",
    "        for x in range(3,BOARD_SIZE[1],1):\n",
    "            for y in range(BOARD_SIZE[0]-3):\n",
    "                line = np.array([self.state[y+i, x-i] for i in range(4)])\n",
    "                unique_players_in_line = np.unique(line)\n",
    "                if unique_players_in_line.size == 1:\n",
    "                    if unique_players_in_line[0] != 0:\n",
    "                        return unique_players_in_line[0]\n",
    "\n",
    "        return winner\n",
    "    \n",
    "    def can_play(self):\n",
    "        \"\"\"\n",
    "        Returns True if there are moves available\n",
    "        \"\"\"\n",
    "        top_row = self.state[0]\n",
    "        return np.any(top_row == 0)\n",
    "\n",
    "    def play(self, player, move):\n",
    "        \"\"\"\n",
    "        Puts a piece in one of the columns\n",
    "        \"\"\"\n",
    "        if not self._validate_move(move):\n",
    "            print('Move {} not valid'.format(move))\n",
    "            return False\n",
    "        x = move\n",
    "        y = BOARD_SIZE[0]-1\n",
    "        while y >= 0 and self.state[y, x] != 0:\n",
    "            y -= 1\n",
    "        if y >= 0:\n",
    "            self.state[y, x] = player\n",
    "            return self.state\n",
    "        else:\n",
    "            print('Move {} is out of range (stack overflow)'.format(move))\n",
    "            return False\n",
    "    \n",
    "    def print_board(self):\n",
    "        print(self.state)\n",
    "\n",
    "    def _validate_move(self, move):\n",
    "        \"\"\"\n",
    "        Checks if the move is valid and returns True if it is\n",
    "        \"\"\"\n",
    "        return self.state[0,move] == 0\n"
   ]
  },
  {
   "cell_type": "code",
   "execution_count": 86,
   "metadata": {},
   "outputs": [],
   "source": [
    "board = Board()"
   ]
  },
  {
   "cell_type": "code",
   "execution_count": 96,
   "metadata": {},
   "outputs": [
    {
     "name": "stdout",
     "output_type": "stream",
     "text": [
      "[[0. 0. 0. 0. 0. 0.]\n",
      " [0. 0. 0. 0. 0. 0.]\n",
      " [0. 0. 0. 1. 0. 0.]\n",
      " [0. 0. 1. 2. 0. 0.]\n",
      " [0. 1. 2. 2. 0. 0.]\n",
      " [1. 2. 2. 2. 0. 0.]]\n",
      "1.0\n"
     ]
    }
   ],
   "source": [
    "state = board.play(1,1)\n",
    "print(state)\n",
    "winner = board.has_won()\n",
    "print(winner)"
   ]
  },
  {
   "cell_type": "code",
   "execution_count": null,
   "metadata": {},
   "outputs": [],
   "source": []
  }
 ],
 "metadata": {
  "kernelspec": {
   "display_name": "Python 3",
   "language": "python",
   "name": "python3"
  },
  "language_info": {
   "codemirror_mode": {
    "name": "ipython",
    "version": 3
   },
   "file_extension": ".py",
   "mimetype": "text/x-python",
   "name": "python",
   "nbconvert_exporter": "python",
   "pygments_lexer": "ipython3",
   "version": "3.7.7"
  }
 },
 "nbformat": 4,
 "nbformat_minor": 4
}
